{
 "cells": [
  {
   "cell_type": "code",
   "execution_count": 1,
   "id": "c59e8a6c",
   "metadata": {},
   "outputs": [
    {
     "name": "stdout",
     "output_type": "stream",
     "text": [
      "Requirement already satisfied: gensim in /Users/admin/opt/anaconda3/lib/python3.9/site-packages (4.3.2)\n",
      "Requirement already satisfied: numpy>=1.18.5 in /Users/admin/opt/anaconda3/lib/python3.9/site-packages (from gensim) (1.21.5)\n",
      "Requirement already satisfied: scipy>=1.7.0 in /Users/admin/opt/anaconda3/lib/python3.9/site-packages (from gensim) (1.9.1)\n",
      "Requirement already satisfied: smart-open>=1.8.1 in /Users/admin/opt/anaconda3/lib/python3.9/site-packages (from gensim) (5.2.1)\n",
      "Note: you may need to restart the kernel to use updated packages.\n"
     ]
    }
   ],
   "source": [
    "pip install --upgrade gensim"
   ]
  },
  {
   "cell_type": "code",
   "execution_count": 2,
   "id": "2174f4cf",
   "metadata": {},
   "outputs": [
    {
     "name": "stdout",
     "output_type": "stream",
     "text": [
      "Requirement already satisfied: summa in /Users/admin/opt/anaconda3/lib/python3.9/site-packages (1.2.0)\n",
      "Requirement already satisfied: scipy>=0.19 in /Users/admin/opt/anaconda3/lib/python3.9/site-packages (from summa) (1.9.1)\n",
      "Requirement already satisfied: numpy<1.25.0,>=1.18.5 in /Users/admin/opt/anaconda3/lib/python3.9/site-packages (from scipy>=0.19->summa) (1.21.5)\n",
      "Note: you may need to restart the kernel to use updated packages.\n"
     ]
    }
   ],
   "source": [
    "pip install summa"
   ]
  },
  {
   "cell_type": "code",
   "execution_count": 3,
   "id": "a2b134cd",
   "metadata": {},
   "outputs": [
    {
     "name": "stdout",
     "output_type": "stream",
     "text": [
      "Original Document:\n",
      "Party least receive say or single. Prevent prevent husband affect. May himself cup style evening protect. Effect another themselves stage perform.\n",
      "Possible try tax share style television with. Successful much sell development economy effect.\n",
      "\n",
      "Summary:\n",
      "May himself cup style evening protect.\n"
     ]
    }
   ],
   "source": [
    "import pandas as pd\n",
    "from summa import summarizer\n",
    "\n",
    "# Load the dataset\n",
    "file_path = 'twitter_dataset.csv'\n",
    "twitter_data = pd.read_csv(file_path)\n",
    "\n",
    "# Choose a sample document (you can loop through all documents if needed)\n",
    "document_index = 0\n",
    "document = twitter_data['Text'][document_index]\n",
    "\n",
    "# Perform extractive summarization\n",
    "summary = summarizer.summarize(document, ratio=0.2)  # Adjust the ratio as needed\n",
    "\n",
    "# Display the original document and its summary\n",
    "print(\"Original Document:\")\n",
    "print(document)\n",
    "\n",
    "print(\"\\nSummary:\")\n",
    "print(summary)"
   ]
  },
  {
   "cell_type": "code",
   "execution_count": null,
   "id": "627920af",
   "metadata": {},
   "outputs": [],
   "source": []
  }
 ],
 "metadata": {
  "kernelspec": {
   "display_name": "Python 3 (ipykernel)",
   "language": "python",
   "name": "python3"
  },
  "language_info": {
   "codemirror_mode": {
    "name": "ipython",
    "version": 3
   },
   "file_extension": ".py",
   "mimetype": "text/x-python",
   "name": "python",
   "nbconvert_exporter": "python",
   "pygments_lexer": "ipython3",
   "version": "3.9.13"
  }
 },
 "nbformat": 4,
 "nbformat_minor": 5
}
